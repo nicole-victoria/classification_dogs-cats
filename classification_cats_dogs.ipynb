{
 "cells": [
  {
   "cell_type": "code",
   "execution_count": null,
   "metadata": {
    "id": "SEAQWswi45wp"
   },
   "outputs": [],
   "source": [
    "#importações\n",
    "import tensorflow as tf\n",
    "import tensorflow_datasets as tfds\n",
    "from tensorflow.keras import layers, models\n",
    "from tensorflow.keras.preprocessing import image\n",
    "import numpy as np\n",
    "import matplotlib.pyplot as plt\n"
   ]
  },
  {
   "cell_type": "code",
   "execution_count": null,
   "metadata": {
    "colab": {
     "base_uri": "https://localhost:8080/",
     "height": 170,
     "referenced_widgets": [
      "b298a7fb0b744226ad6ac824dab2ecd3",
      "91c2e623ccae42e3ae5d24688244f8cc",
      "41d02ed1b07e4f9eb463758b094475ec",
      "da12ae1cdd0f44828db3018405c5c17d",
      "36c80feff51b4b6e80e7fe8075b2a0bd",
      "e0aee243c0064d68900368b277f902d8",
      "c5920932ec8e47fb89d7fdd83ea423a2",
      "9b4fb3cf194a47f1bbde3f806da2078f",
      "fe926232994047ea870f128661fd5d31",
      "731270abaf944ccc89ed54e159a5df77",
      "235db92fdab54d4c838aa16b0d1b6cf7",
      "361a5c0c8afb4aa59e7b5d8bc2eccaeb",
      "d58e8c13a9634f7c8561f12f4a5cfbde",
      "e450f5d1ee144ba2983e2176a31f22ce",
      "9f8e0108d37f47aea548e21e2c7ee720",
      "8904a03bfe174ea2868a564716d0528c",
      "db34d27e88df4fa3a598305f4b75eb71",
      "5b7af5de42934fafbf528f46c48269b3",
      "f0949b29ced343cb9d78be33f760b7a3",
      "9bef4ff82b18483fbb513d94ed873897",
      "5477db94a4f746d6af1fe2e6ebd1629a",
      "d675734d11b840c58bbac815daf3d630",
      "b6a0e0398faf416ebd56d5435a4e6ec9",
      "173c79b166c64f8cbd3f3f79c43c7aec",
      "3bfc4ae9ca0d40248a6366c4280d0827",
      "c4671451eb8448278c0c9a7b4520b148",
      "4c0addc4ecb848d2add828b475187f85",
      "f48f83fcfb354d61a54cf54208ae2a5b",
      "d558d3b5a0794323ad19bb3fbf84e2cc",
      "0263e3dde16e4a10b0481732701138a6",
      "9be3bf28d4d4490cbb9838bf2da16e33",
      "296097481027417e955e66d5d0aed360",
      "491dc19902b746fda027fd238a29be3a",
      "fadb5f57c4034f0e8e6888b51c62e4af",
      "5e82c4955d8142ddbd96e3b5bd6444bc",
      "b1c27c42c42849e4826b870d42080e4d",
      "999d047933d346bfb1d1763207bb821f",
      "c56cb5da47434b2582c4d9d6fef9f9fe",
      "346e1a0623384155b71ba76a14cd99af",
      "b85022778d4d49a7b1cf4e875a7a81b5",
      "7703155087f44ddeadc47cc168b9f063",
      "eab397a575234c8488b163b3ae93633c",
      "d278c6a74d3a44169c02dea5c711ec8c",
      "fcd907dda9174074a5a311b17a53dd38",
      "9f27985c90114f139cd8defb34bcd5fd",
      "c7255dc8d04a46a78f98062f17d3c5be",
      "f8726102eba447ec92ab22564e636683",
      "66763d1692394da58546dfa194921e82",
      "e001c60014914bed9290e9e81b237564",
      "f3bd6a0ce5c64a2e8f8707cd101dcf73",
      "34b5f819f3f0445e8665b46c4e605a1f",
      "227353ef920148ddabb0a2b63d478f1e",
      "83cc2547fba54800996f6c49126cfbb1",
      "d04fae4a5b094f8e86f503e47429e3f1",
      "fdcad18012684c85a5adb02e8014dfda"
     ]
    },
    "id": "RLoy1IGfopKB",
    "outputId": "f1e6bd90-0120-41fb-e1e0-4e01fe2a0fbb"
   },
   "outputs": [],
   "source": [
    "# Carrega dados e metadados(cats_vs_dogs do TensorFlow)\n",
    "splits = [\"train[:80%]\", \"train[80%:90%]\", \"train[90%:100%]\"] #define divisao dos dados para treinamento, teste e validação\n",
    "train_ds, val_ds, test_ds = tfds.load(\"cats_vs_dogs\",\n",
    "                                       split=splits,\n",
    "                                       as_supervised=True, #imagem, rótulo\n",
    "                                       with_info=False)"
   ]
  },
  {
   "cell_type": "code",
   "execution_count": null,
   "metadata": {
    "id": "o7ypgKZWpB2Q"
   },
   "outputs": [],
   "source": [
    "IMG_SIZE = (160, 160) #definição da dimensao da imagem\n",
    "BATCH_SIZE = 32 #definição de lotes de imagens\n",
    "\n",
    "#pré-processamento da imagem\n",
    "def preprocess(image, label):\n",
    "    image = tf.image.resize(image, IMG_SIZE)\n",
    "    image = tf.cast(image, tf.float32) / 255.0\n",
    "    return image, label\n",
    "\n",
    "#faz ajustes aleatórios nas imagens pro modelo \"aprender\" com mais eficiência\n",
    "def augment(image, label):\n",
    "    image = tf.image.random_flip_left_right(image)\n",
    "    image = tf.image.random_brightness(image, max_delta=0.2)\n",
    "    return image, label\n",
    "\n",
    "# preparação do conjunto de treino\n",
    "train_ds = (train_ds.map(preprocess)\n",
    "                    .map(augment)\n",
    "                    .shuffle(1000)\n",
    "                    .batch(BATCH_SIZE)\n",
    "                    .prefetch(tf.data.AUTOTUNE))\n",
    "\n",
    "# preparação do conjunto de validação(augment nao foi utilizada augmentação, para focar na avaliação de imagens reais, sem distorções)\n",
    "val_ds = (val_ds.map(preprocess)\n",
    "                  .batch(BATCH_SIZE)\n",
    "                  .prefetch(tf.data.AUTOTUNE))\n"
   ]
  },
  {
   "cell_type": "code",
   "execution_count": null,
   "metadata": {
    "colab": {
     "base_uri": "https://localhost:8080/"
    },
    "id": "4QNACybFqPPB",
    "outputId": "5438306f-9e2c-48b6-f7d4-237b2ba7d1d2"
   },
   "outputs": [],
   "source": [
    "#definição do modelo base com MobileNetV2(transfer learning)\n",
    "base_model = tf.keras.applications.MobileNetV2(input_shape=(*IMG_SIZE, 3), #define o tamanho de entrada da imagem e canais de cor(3 ou RGB)\n",
    "                                               include_top=False, # remove a parte final do modelo original, que fazia classificação de 1000 classes do ImageNet.\n",
    "                                               weights=\"imagenet\")\n",
    "\n",
    "base_model.trainable = False #congela modelo base\n",
    "\n",
    "#definição do modelo final(sequencial)\n",
    "model = models.Sequential([\n",
    "    base_model,\n",
    "    layers.GlobalAveragePooling2D(), #Reduz as saídas do base_model para um vetor pequeno.\n",
    "    layers.Dense(1, activation=\"sigmoid\") #definição da última camada com apenas 1 neurônio, para fazer a classificação binária\n",
    "])\n"
   ]
  },
  {
   "cell_type": "code",
   "execution_count": null,
   "metadata": {
    "colab": {
     "base_uri": "https://localhost:8080/"
    },
    "id": "N2fCczNVtcG1",
    "outputId": "b8c363d6-436e-418f-ee49-d8a15ac9b7b1"
   },
   "outputs": [],
   "source": [
    "#compilação e treinamento do modelo\n",
    "\n",
    "model.compile(optimizer=\"adam\",\n",
    "              loss=\"binary_crossentropy\",\n",
    "              metrics=[\"accuracy\"])\n",
    "\n",
    "history = model.fit(train_ds,\n",
    "                    epochs=5,\n",
    "                    validation_data=val_ds)"
   ]
  },
  {
   "cell_type": "code",
   "execution_count": null,
   "metadata": {
    "colab": {
     "base_uri": "https://localhost:8080/"
    },
    "id": "dHS49VsBt8uB",
    "outputId": "6d40645c-555d-4ff8-896c-e635c1fd44fa"
   },
   "outputs": [],
   "source": [
    "#Fine-Tuning\n",
    "\n",
    "base_model.trainable = True #descongela as últimas camadas\n",
    "fine_tune_at = 100  #definição do ponto de corte das camadas\n",
    "\n",
    "#congela apenas as camadas iniciais(até 100)\n",
    "for layer in base_model.layers[:fine_tune_at]:\n",
    "    layer.trainable = False\n",
    "\n",
    "#recompilação\n",
    "model.compile(optimizer=tf.keras.optimizers.Adam(1e-5),\n",
    "              loss=\"binary_crossentropy\",\n",
    "              metrics=[\"accuracy\"])\n",
    "\n",
    "#treinamento com Fine Tuning\n",
    "history_ft = model.fit(train_ds,\n",
    "                       epochs=10,\n",
    "                       validation_data=val_ds,\n",
    "                       initial_epoch=history.epoch[-1]) #garante que O treinamento continue de onde parou"
   ]
  },
  {
   "cell_type": "code",
   "execution_count": null,
   "metadata": {
    "colab": {
     "base_uri": "https://localhost:8080/",
     "height": 396
    },
    "id": "qxkpq7XtvAnM",
    "outputId": "2c810946-ee38-4f5c-9feb-535afd1937a9"
   },
   "outputs": [],
   "source": [
    "#Visualização dos resultados\n",
    "\n",
    "# Junta os históricos anteriores\n",
    "acc = history.history[\"accuracy\"] + history_ft.history[\"accuracy\"]\n",
    "val_acc = history.history[\"val_accuracy\"] + history_ft.history[\"val_accuracy\"]\n",
    "\n",
    "loss = history.history[\"loss\"] + history_ft.history[\"loss\"]\n",
    "val_loss = history.history[\"val_loss\"] + history_ft.history[\"val_loss\"]\n",
    "\n",
    "epochs_range = range(len(acc))\n",
    "\n",
    "# Plotando\n",
    "plt.figure(figsize=(14, 5))\n",
    "\n",
    "# Acurácia\n",
    "plt.subplot(1, 2, 1)\n",
    "plt.plot(epochs_range, acc, label=\"Treino\")\n",
    "plt.plot(epochs_range, val_acc, label=\"Validação\")\n",
    "plt.axvline(x=history.epoch[-1], color=\"gray\", linestyle=\"--\", label=\"Início do Fine-Tuning\")\n",
    "plt.title(\"Acurácia durante o treino\")\n",
    "plt.xlabel(\"Época\")\n",
    "plt.ylabel(\"Acurácia\")\n",
    "plt.legend()\n",
    "\n",
    "# Perda\n",
    "plt.subplot(1, 2, 2)\n",
    "plt.plot(epochs_range, loss, label=\"Treino\")\n",
    "plt.plot(epochs_range, val_loss, label=\"Validação\")\n",
    "plt.axvline(x=history.epoch[-1], color=\"gray\", linestyle=\"--\", label=\"Início do Fine-Tuning\")\n",
    "plt.title(\"Perda (loss) durante o treino\")\n",
    "plt.xlabel(\"Época\")\n",
    "plt.ylabel(\"Loss\")\n",
    "plt.legend()\n",
    "\n",
    "plt.tight_layout()\n",
    "plt.show()"
   ]
  },
  {
   "cell_type": "code",
   "execution_count": null,
   "metadata": {
    "colab": {
     "base_uri": "https://localhost:8080/"
    },
    "id": "csoBvmW3vXqP",
    "outputId": "9386c3cd-5278-41d9-8fd9-ef654c9335c0"
   },
   "outputs": [],
   "source": [
    "# Teste final com imagem nova (cachorro)\n",
    "img = image.load_img(\"/content/dog.jpg\", target_size=IMG_SIZE)\n",
    "img_array = image.img_to_array(img)\n",
    "img_array = img_array / 255.0\n",
    "img_array = np.expand_dims(img_array, axis=0)\n",
    "\n",
    "# Faz a previsão\n",
    "prediction = model.predict(img_array)\n",
    "\n",
    "# probabilidade da classe \"Dog\"\n",
    "score = prediction[0][0]\n",
    "\n",
    "# Calcula probabilidades das duas classes\n",
    "prob_cat = 1 - score\n",
    "prob_dog = score\n",
    "\n",
    "# Define a classe final prevista\n",
    "class_names = [\"Cat\", \"Dog\"]\n",
    "predicted_class = class_names[int(score > 0.5)]\n",
    "\n",
    "# Exibe resultados\n",
    "print(f\"Predição: {predicted_class}\")\n",
    "print(f\"Probabilidade de Cat: {prob_cat:.4f}\")\n",
    "print(f\"Probabilidade de Dog: {prob_dog:.4f}\")\n",
    "\n"
   ]
  },
  {
   "cell_type": "code",
   "execution_count": null,
   "metadata": {
    "colab": {
     "base_uri": "https://localhost:8080/"
    },
    "id": "XSlXUlhjGi9c",
    "outputId": "27cc53fa-6b92-4f34-cd10-48c60a0ce1cb"
   },
   "outputs": [],
   "source": [
    "# Teste final com imagem nova (gato)\n",
    "img = image.load_img(\"/content/cat.jpg\", target_size=IMG_SIZE)\n",
    "img_array = image.img_to_array(img)\n",
    "img_array = img_array / 255.0\n",
    "img_array = np.expand_dims(img_array, axis=0)\n",
    "\n",
    "# Faz a previsão\n",
    "prediction = model.predict(img_array)\n",
    "\n",
    "# probabilidade da classe \"Dog\"\n",
    "score = prediction[0][0]\n",
    "\n",
    "# Calcula probabilidades das duas classes\n",
    "prob_cat = 1 - score\n",
    "prob_dog = score\n",
    "\n",
    "# Define a classe final prevista\n",
    "class_names = [\"Cat\", \"Dog\"]\n",
    "predicted_class = class_names[int(score > 0.5)]\n",
    "\n",
    "# Exibe resultados\n",
    "print(f\"Predição: {predicted_class}\")\n",
    "print(f\"Probabilidade de Cat: {prob_cat:.4f}\")\n",
    "print(f\"Probabilidade de Dog: {prob_dog:.4f}\")"
   ]
  }
 ],
 "metadata": {
  "colab": {
   "provenance": []
  },
  "kernelspec": {
   "display_name": "Python 3",
   "name": "python3"
  },
  "language_info": {
   "name": "python"
  }
 },
 "nbformat": 4,
 "nbformat_minor": 0
}
